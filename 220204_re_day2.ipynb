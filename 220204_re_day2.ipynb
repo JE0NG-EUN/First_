{
 "cells": [
  {
   "cell_type": "code",
   "execution_count": 28,
   "id": "aeafa980",
   "metadata": {},
   "outputs": [],
   "source": [
    "import re"
   ]
  },
  {
   "cell_type": "code",
   "execution_count": 8,
   "id": "d605f7ca",
   "metadata": {},
   "outputs": [
    {
     "data": {
      "text/plain": [
       "['10', '200']"
      ]
     },
     "execution_count": 8,
     "metadata": {},
     "output_type": "execute_result"
    }
   ],
   "source": [
    "m=re.match(\"\\d+ \\d+\",\"10 200\")\n",
    "res=m.group()\n",
    "res.split()"
   ]
  },
  {
   "cell_type": "raw",
   "id": "e322bb20",
   "metadata": {},
   "source": []
  },
  {
   "cell_type": "code",
   "execution_count": 15,
   "id": "a1c39265",
   "metadata": {},
   "outputs": [],
   "source": [
    "m=re.match(\"([\\d]+) ([\\d]+)\",\"10 200\")\n",
    "#패턴 내부에서 정규표현식을 ()소괄호로 묶으면 그룹이 됨"
   ]
  },
  {
   "cell_type": "code",
   "execution_count": 18,
   "id": "ae89fa1c",
   "metadata": {},
   "outputs": [
    {
     "data": {
      "text/plain": [
       "('10', '200')"
      ]
     },
     "execution_count": 18,
     "metadata": {},
     "output_type": "execute_result"
    }
   ],
   "source": [
    "m.group(1) # m.groups()[0] 같음\n",
    "m.group(2)\n",
    "m.group() #m.group()같음\n",
    "m.groups()"
   ]
  },
  {
   "cell_type": "code",
   "execution_count": null,
   "id": "02551b09",
   "metadata": {},
   "outputs": [],
   "source": [
    "#그룹이 많을때는 그룹 단위로 이름을 부여하여 구분\n",
    "#(?P<이름>정규표현식)"
   ]
  },
  {
   "cell_type": "code",
   "execution_count": 32,
   "id": "6a05e1a3",
   "metadata": {},
   "outputs": [
    {
     "data": {
      "text/plain": [
       "'print'"
      ]
     },
     "execution_count": 32,
     "metadata": {},
     "output_type": "execute_result"
    }
   ],
   "source": [
    "m=re.match(\"(?P<func>[a-zA-Z_][a-zA-Z0-9_]+)\\((?P<arg>\\w+)\\)\",\"print(123)\")\n",
    "m.group('arg')\n",
    "m.group('func')"
   ]
  },
  {
   "cell_type": "code",
   "execution_count": null,
   "id": "e1e0cce3",
   "metadata": {},
   "outputs": [],
   "source": [
    "#영문자/언더바 1글자 + 영문자/숫자/언더바 1글자 이상"
   ]
  },
  {
   "cell_type": "code",
   "execution_count": null,
   "id": "4abb3621",
   "metadata": {},
   "outputs": [],
   "source": [
    "문자열에서 함수이름과 인수를 각각 추출"
   ]
  },
  {
   "cell_type": "code",
   "execution_count": null,
   "id": "81eb85bc",
   "metadata": {},
   "outputs": [],
   "source": [
    "\"1 2 abc 3 def 4 5 ghi\""
   ]
  },
  {
   "cell_type": "code",
   "execution_count": 35,
   "id": "c92fafa1",
   "metadata": {},
   "outputs": [
    {
     "data": {
      "text/plain": [
       "['111', '2', '3', '4', '5']"
      ]
     },
     "execution_count": 35,
     "metadata": {},
     "output_type": "execute_result"
    }
   ],
   "source": [
    "re.findall(\"\\d+\",\"1 2 abc 3 def 4 5 ghi\")\n",
    "re.findall(\"\\d+\",\"111 2 abc 3 def 4 5 ghi\")"
   ]
  },
  {
   "cell_type": "code",
   "execution_count": null,
   "id": "a46630c8",
   "metadata": {},
   "outputs": [],
   "source": [
    "re.sub(\"패턴식\", \"바꿀문자열\", \"문자열\", \"바꿀횟수\")"
   ]
  },
  {
   "cell_type": "code",
   "execution_count": 37,
   "id": "da7050d1",
   "metadata": {},
   "outputs": [
    {
     "data": {
      "text/plain": [
       "'fruit box fruit tree'"
      ]
     },
     "execution_count": 37,
     "metadata": {},
     "output_type": "execute_result"
    }
   ],
   "source": [
    "re.sub(\"apple|orange\",\"fruit\",\"apple box orange tree\")\n",
    "#바꿀횟수는 생략시 모두 변경"
   ]
  },
  {
   "cell_type": "code",
   "execution_count": 39,
   "id": "67a5f5e8",
   "metadata": {},
   "outputs": [
    {
     "data": {
      "text/plain": [
       "'num num abc 한국 num 데이터 num'"
      ]
     },
     "execution_count": 39,
     "metadata": {},
     "output_type": "execute_result"
    }
   ],
   "source": [
    "re.sub(\"\\d+\",\"num\",\"100 200 abc 한국 300 데이터 500\")\n",
    "#숫자를 모두 num으로 변경"
   ]
  },
  {
   "cell_type": "code",
   "execution_count": 40,
   "id": "5ea9163a",
   "metadata": {},
   "outputs": [
    {
     "data": {
      "text/plain": [
       "'1000 2000 abc 한국 3000 데이터 5000'"
      ]
     },
     "execution_count": 40,
     "metadata": {},
     "output_type": "execute_result"
    }
   ],
   "source": [
    "# \"100 200 abc 한국 300 데이터 500\"에서 숫자를 찾은 다음\n",
    "# 각 숫자를 10배한 값으로 변경\n",
    "# \"1000 2000 abc 한국 3000 데이터 5000\"\n",
    "# re.sub(\"패턴\", 함수, \"문자열\", \"변경횟수\")\n",
    "# 문자열에서 패턴에 해당되는 부분이 함수에 인수로서 전달됨\n",
    "# 함수에서 처리 작업 수행하고 리턴\n",
    "\n",
    "def mul10(num):\n",
    "    return str(int(num.group())*10)\n",
    "\n",
    "re.sub(\"[0-9]+\", mul10, \"100 200 abc 한국 300 데이터 500\")"
   ]
  },
  {
   "cell_type": "code",
   "execution_count": 41,
   "id": "464b0e2f",
   "metadata": {},
   "outputs": [
    {
     "data": {
      "text/plain": [
       "'1000 2000 abc 한국 3000 데이터 5000'"
      ]
     },
     "execution_count": 41,
     "metadata": {},
     "output_type": "execute_result"
    }
   ],
   "source": [
    "re.sub(\"[0-9]+\", lambda num:str(int(num.group())*10), \"100 200 abc 한국 300 데이터 500\")"
   ]
  },
  {
   "cell_type": "code",
   "execution_count": null,
   "id": "12bb4ddb",
   "metadata": {},
   "outputs": [],
   "source": []
  },
  {
   "cell_type": "code",
   "execution_count": 42,
   "id": "2931ff66",
   "metadata": {},
   "outputs": [],
   "source": [
    "import pandas as pd"
   ]
  },
  {
   "cell_type": "code",
   "execution_count": 44,
   "id": "7e427394",
   "metadata": {},
   "outputs": [],
   "source": [
    "df=pd.read_csv(\"train.csv\")"
   ]
  },
  {
   "cell_type": "code",
   "execution_count": 45,
   "id": "0de263c6",
   "metadata": {},
   "outputs": [
    {
     "name": "stdout",
     "output_type": "stream",
     "text": [
      "<class 'pandas.core.frame.DataFrame'>\n",
      "RangeIndex: 891 entries, 0 to 890\n",
      "Data columns (total 12 columns):\n",
      " #   Column       Non-Null Count  Dtype  \n",
      "---  ------       --------------  -----  \n",
      " 0   PassengerId  891 non-null    int64  \n",
      " 1   Survived     891 non-null    int64  \n",
      " 2   Pclass       891 non-null    int64  \n",
      " 3   Name         891 non-null    object \n",
      " 4   Sex          891 non-null    object \n",
      " 5   Age          714 non-null    float64\n",
      " 6   SibSp        891 non-null    int64  \n",
      " 7   Parch        891 non-null    int64  \n",
      " 8   Ticket       891 non-null    object \n",
      " 9   Fare         891 non-null    float64\n",
      " 10  Cabin        204 non-null    object \n",
      " 11  Embarked     889 non-null    object \n",
      "dtypes: float64(2), int64(5), object(5)\n",
      "memory usage: 83.7+ KB\n"
     ]
    }
   ],
   "source": [
    "df.info()"
   ]
  },
  {
   "cell_type": "code",
   "execution_count": 71,
   "id": "6740f98c",
   "metadata": {},
   "outputs": [],
   "source": [
    "df['Name']\n",
    "\n",
    "n1='Futrelle, Mrs. Jacques Heath (Lily May Peel)'\n",
    "n2='Johnston, Miss. Catherine Helen \"Carrie\"'\n",
    "n3='Dooley, Mr. Patrick'"
   ]
  },
  {
   "cell_type": "code",
   "execution_count": 105,
   "id": "5944dfce",
   "metadata": {},
   "outputs": [
    {
     "data": {
      "text/plain": [
       "<re.Match object; span=(9, 14), match=' Mrs.'>"
      ]
     },
     "execution_count": 105,
     "metadata": {},
     "output_type": "execute_result"
    }
   ],
   "source": [
    "a=re.search(\" [\\w]+[.]\",n1)\n",
    "a"
   ]
  },
  {
   "cell_type": "code",
   "execution_count": null,
   "id": "49575f0a",
   "metadata": {},
   "outputs": [],
   "source": [
    "###########오후###########"
   ]
  },
  {
   "cell_type": "code",
   "execution_count": null,
   "id": "f5b76c8f",
   "metadata": {},
   "outputs": [],
   "source": [
    "클래스 : 동작및 속성이 유사한 객체들 모음\n",
    "객체 : 게임 캐릭터\n",
    "동작(메서드):활쏘기, 칼베기\n",
    "속성:레벨, 체력, 공격력,..."
   ]
  },
  {
   "cell_type": "code",
   "execution_count": null,
   "id": "50f193cc",
   "metadata": {},
   "outputs": [],
   "source": [
    "#클래스 정의\n",
    "class 클래스명:\n",
    "    def 메서드명(self):\n",
    "        코드"
   ]
  },
  {
   "cell_type": "code",
   "execution_count": 111,
   "id": "f8f87308",
   "metadata": {},
   "outputs": [],
   "source": [
    "class Person:\n",
    "    def study(self):\n",
    "        print(\"ptyhon study\")\n",
    "    def hello(self):\n",
    "        self.study()"
   ]
  },
  {
   "cell_type": "code",
   "execution_count": 112,
   "id": "a42a063d",
   "metadata": {},
   "outputs": [],
   "source": [
    "hgd=Person() #클래스() -> 객체생성"
   ]
  },
  {
   "cell_type": "code",
   "execution_count": 115,
   "id": "bbaa6c30",
   "metadata": {},
   "outputs": [
    {
     "name": "stdout",
     "output_type": "stream",
     "text": [
      "ptyhon study\n"
     ]
    }
   ],
   "source": [
    "hgd.hello()"
   ]
  },
  {
   "cell_type": "code",
   "execution_count": 114,
   "id": "bd050a0b",
   "metadata": {},
   "outputs": [
    {
     "data": {
      "text/plain": [
       "__main__.Person"
      ]
     },
     "execution_count": 114,
     "metadata": {},
     "output_type": "execute_result"
    }
   ],
   "source": [
    "type(hgd)"
   ]
  },
  {
   "cell_type": "code",
   "execution_count": null,
   "id": "a24be0c3",
   "metadata": {},
   "outputs": [],
   "source": [
    "#클래스에서 속성을 만들떄는 __init__  매서드 안에서 self.속성명=값 형태로"
   ]
  },
  {
   "cell_type": "code",
   "execution_count": 131,
   "id": "25db51f1",
   "metadata": {},
   "outputs": [],
   "source": [
    "class Person:\n",
    "    def study(self):\n",
    "        print(\"study\")\n",
    "    def __init__(self):\n",
    "        self.say=\"응애응애\"\n",
    "        self.name=\"아가\"\n",
    "        self.age=\"1\"\n",
    "        print(\"init가 호출됨\")\n",
    "    def greeting(self):\n",
    "        print(self.hello)\n",
    "        #클래스 내부에서 속성을 사용할때는 self.속성명"
   ]
  },
  {
   "cell_type": "code",
   "execution_count": 132,
   "id": "60b2d3f7",
   "metadata": {},
   "outputs": [
    {
     "name": "stdout",
     "output_type": "stream",
     "text": [
      "init가 호출됨\n"
     ]
    }
   ],
   "source": [
    "ikj=Person() #__init__:클래스에 괄호()를 붙여서 객체를 생성하면\n",
    "#자동으로 호출되는 특별한 메서드"
   ]
  },
  {
   "cell_type": "code",
   "execution_count": 140,
   "id": "15ad1587",
   "metadata": {},
   "outputs": [],
   "source": [
    "class 붕어빵기계:\n",
    "    def 굽는다(self):\n",
    "        print(\"굽는작업\")\n",
    "    def __init(self):\n",
    "        self.con=\"팥\"\n",
    "        self.width=\"10\"\n",
    "        self.height=\"5\""
   ]
  },
  {
   "cell_type": "code",
   "execution_count": 141,
   "id": "357690ee",
   "metadata": {},
   "outputs": [
    {
     "ename": "AttributeError",
     "evalue": "'붕어빵기계' object has no attribute 'height'",
     "output_type": "error",
     "traceback": [
      "\u001b[1;31m---------------------------------------------------------------------------\u001b[0m",
      "\u001b[1;31mAttributeError\u001b[0m                            Traceback (most recent call last)",
      "\u001b[1;32m~\\AppData\\Local\\Temp/ipykernel_19468/3956905917.py\u001b[0m in \u001b[0;36m<module>\u001b[1;34m\u001b[0m\n\u001b[0;32m      1\u001b[0m \u001b[0m붕어빵1\u001b[0m\u001b[1;33m=\u001b[0m\u001b[0m붕어빵기계\u001b[0m\u001b[1;33m(\u001b[0m\u001b[1;33m)\u001b[0m\u001b[1;33m\u001b[0m\u001b[1;33m\u001b[0m\u001b[0m\n\u001b[1;32m----> 2\u001b[1;33m \u001b[0mprint\u001b[0m\u001b[1;33m(\u001b[0m\u001b[0m붕어빵1\u001b[0m\u001b[1;33m.\u001b[0m\u001b[0mheight\u001b[0m\u001b[1;33m(\u001b[0m\u001b[1;33m)\u001b[0m\u001b[1;33m)\u001b[0m\u001b[1;33m\u001b[0m\u001b[1;33m\u001b[0m\u001b[0m\n\u001b[0m",
      "\u001b[1;31mAttributeError\u001b[0m: '붕어빵기계' object has no attribute 'height'"
     ]
    }
   ],
   "source": [
    "붕어빵1=붕어빵기계()\n",
    "print(붕어빵1.height())"
   ]
  },
  {
   "cell_type": "code",
   "execution_count": null,
   "id": "8c6e3014",
   "metadata": {},
   "outputs": [],
   "source": []
  },
  {
   "cell_type": "code",
   "execution_count": null,
   "id": "002062d0",
   "metadata": {},
   "outputs": [],
   "source": []
  },
  {
   "cell_type": "code",
   "execution_count": 133,
   "id": "6c251fe8",
   "metadata": {},
   "outputs": [
    {
     "ename": "AttributeError",
     "evalue": "'Person' object has no attribute 'hello'",
     "output_type": "error",
     "traceback": [
      "\u001b[1;31m---------------------------------------------------------------------------\u001b[0m",
      "\u001b[1;31mAttributeError\u001b[0m                            Traceback (most recent call last)",
      "\u001b[1;32m~\\AppData\\Local\\Temp/ipykernel_19468/144529652.py\u001b[0m in \u001b[0;36m<module>\u001b[1;34m\u001b[0m\n\u001b[0;32m      1\u001b[0m \u001b[1;31m#ikj.study()\u001b[0m\u001b[1;33m\u001b[0m\u001b[1;33m\u001b[0m\u001b[0m\n\u001b[0;32m      2\u001b[0m \u001b[1;31m#ikj.hello\u001b[0m\u001b[1;33m\u001b[0m\u001b[1;33m\u001b[0m\u001b[0m\n\u001b[1;32m----> 3\u001b[1;33m \u001b[0mikj\u001b[0m\u001b[1;33m.\u001b[0m\u001b[0mgreeting\u001b[0m\u001b[1;33m(\u001b[0m\u001b[1;33m)\u001b[0m\u001b[1;33m\u001b[0m\u001b[1;33m\u001b[0m\u001b[0m\n\u001b[0m",
      "\u001b[1;32m~\\AppData\\Local\\Temp/ipykernel_19468/884388137.py\u001b[0m in \u001b[0;36mgreeting\u001b[1;34m(self)\u001b[0m\n\u001b[0;32m      8\u001b[0m         \u001b[0mprint\u001b[0m\u001b[1;33m(\u001b[0m\u001b[1;34m\"init가 호출됨\"\u001b[0m\u001b[1;33m)\u001b[0m\u001b[1;33m\u001b[0m\u001b[1;33m\u001b[0m\u001b[0m\n\u001b[0;32m      9\u001b[0m     \u001b[1;32mdef\u001b[0m \u001b[0mgreeting\u001b[0m\u001b[1;33m(\u001b[0m\u001b[0mself\u001b[0m\u001b[1;33m)\u001b[0m\u001b[1;33m:\u001b[0m\u001b[1;33m\u001b[0m\u001b[1;33m\u001b[0m\u001b[0m\n\u001b[1;32m---> 10\u001b[1;33m         \u001b[0mprint\u001b[0m\u001b[1;33m(\u001b[0m\u001b[0mself\u001b[0m\u001b[1;33m.\u001b[0m\u001b[0mhello\u001b[0m\u001b[1;33m)\u001b[0m\u001b[1;33m\u001b[0m\u001b[1;33m\u001b[0m\u001b[0m\n\u001b[0m\u001b[0;32m     11\u001b[0m         \u001b[1;31m#클래스 내부에서 속성을 사용할때는 self.속성명\u001b[0m\u001b[1;33m\u001b[0m\u001b[1;33m\u001b[0m\u001b[0m\n",
      "\u001b[1;31mAttributeError\u001b[0m: 'Person' object has no attribute 'hello'"
     ]
    }
   ],
   "source": [
    "#ikj.study()\n",
    "#ikj.hello\n",
    "ikj.greeting()"
   ]
  },
  {
   "cell_type": "code",
   "execution_count": 142,
   "id": "39f9858e",
   "metadata": {},
   "outputs": [
    {
     "name": "stdout",
     "output_type": "stream",
     "text": [
      "<__main__.Person object at 0x0000013C6BCDE2E0>\n",
      "응애응애\n"
     ]
    }
   ],
   "source": [
    "print(ikj)\n",
    "print(ikj.say)"
   ]
  },
  {
   "cell_type": "code",
   "execution_count": 149,
   "id": "431a191a",
   "metadata": {},
   "outputs": [],
   "source": [
    "class Person:\n",
    "    def __init__(self,name,age,addr):\n",
    "        self.name=name\n",
    "        self.age=age\n",
    "        self.addr=addr\n",
    "        self.gen=\"female\"\n",
    "    def hello(self):\n",
    "        print(\"{0} 저는 {1}입니다\". format(self.age,self.name) )"
   ]
  },
  {
   "cell_type": "code",
   "execution_count": 150,
   "id": "6dca2b8d",
   "metadata": {},
   "outputs": [],
   "source": [
    "ikj=Person('임꺽정', 20, '서울시')"
   ]
  },
  {
   "cell_type": "code",
   "execution_count": 152,
   "id": "44dc1232",
   "metadata": {},
   "outputs": [
    {
     "name": "stdout",
     "output_type": "stream",
     "text": [
      "female\n",
      "20 저는 임꺽정입니다\n"
     ]
    }
   ],
   "source": [
    "print(ikj.gen)\n",
    "ikj.hello()"
   ]
  },
  {
   "cell_type": "code",
   "execution_count": null,
   "id": "f9ee7234",
   "metadata": {},
   "outputs": [],
   "source": []
  },
  {
   "cell_type": "code",
   "execution_count": null,
   "id": "988dc452",
   "metadata": {},
   "outputs": [],
   "source": [
    "# 부모클래스(기반, 슈퍼):물려주는 기능\n",
    "# 자식클래스(파생, 서브): 물러받는 기능"
   ]
  },
  {
   "cell_type": "code",
   "execution_count": 154,
   "id": "582874bf",
   "metadata": {},
   "outputs": [],
   "source": [
    "class 동물:\n",
    "    def 먹는다(self):\n",
    "        print(\"맛있게 먹는다\")"
   ]
  },
  {
   "cell_type": "code",
   "execution_count": 155,
   "id": "8179d9b4",
   "metadata": {},
   "outputs": [],
   "source": [
    "class 사람(동물): #동물클래스로부터 상속받아 사람클래스 정의\n",
    "    def 공부한다(self):\n",
    "        print(\"열심히 공부한다\")\n",
    "    #def 먹는다(self): 상속받아서 존재함\n",
    "    "
   ]
  },
  {
   "cell_type": "code",
   "execution_count": 156,
   "id": "d0456dc4",
   "metadata": {},
   "outputs": [],
   "source": [
    "세종=사람()"
   ]
  },
  {
   "cell_type": "code",
   "execution_count": 158,
   "id": "2efc00c9",
   "metadata": {},
   "outputs": [
    {
     "name": "stdout",
     "output_type": "stream",
     "text": [
      "열심히 공부한다\n"
     ]
    }
   ],
   "source": [
    "세종.공부한다()"
   ]
  },
  {
   "cell_type": "code",
   "execution_count": null,
   "id": "5afa8307",
   "metadata": {},
   "outputs": [],
   "source": []
  }
 ],
 "metadata": {
  "kernelspec": {
   "display_name": "Python 3 (ipykernel)",
   "language": "python",
   "name": "python3"
  },
  "language_info": {
   "codemirror_mode": {
    "name": "ipython",
    "version": 3
   },
   "file_extension": ".py",
   "mimetype": "text/x-python",
   "name": "python",
   "nbconvert_exporter": "python",
   "pygments_lexer": "ipython3",
   "version": "3.9.7"
  }
 },
 "nbformat": 4,
 "nbformat_minor": 5
}
