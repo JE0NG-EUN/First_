{
 "cells": [
  {
   "cell_type": "code",
   "execution_count": 1,
   "metadata": {},
   "outputs": [
    {
     "data": {
      "text/plain": [
       "'\\n정규표현식(re;일정한 규칙(패턴)을 가진 문자열을 표현하는 방법)\\n\\n'"
      ]
     },
     "execution_count": 1,
     "metadata": {},
     "output_type": "execute_result"
    }
   ],
   "source": [
    "\"\"\"\n",
    "정규표현식(re;일정한 규칙(패턴)을 가진 문자열을 표현하는 방법)\n",
    "\n",
    "\"\"\""
   ]
  },
  {
   "cell_type": "code",
   "execution_count": 2,
   "metadata": {},
   "outputs": [],
   "source": [
    "data=\"\"\"\n",
    "park 900101-1234567\n",
    "kim 950202-2345678\n",
    "\"\"\"\n",
    "# 출력\n",
    "# park 900101-*******\n",
    "# kim 950202-*******"
   ]
  },
  {
   "cell_type": "code",
   "execution_count": 10,
   "metadata": {},
   "outputs": [
    {
     "name": "stdout",
     "output_type": "stream",
     "text": [
      "['', 'park 900101-1234567', 'kim 950202-2345678', '']\n",
      "900101-*******\n",
      "950202-*******\n"
     ]
    }
   ],
   "source": [
    "print(data.split(\"\\n\"))\n",
    "for line in data.split(\"\\n\"):\n",
    "    for word in line.split(\" \"):\n",
    "        if len(word)==14 and word[:6].isdigit() and word[7:].isdigit():\n",
    "            print(word[:6]+\"-\"+\"*******\")\n",
    "    "
   ]
  },
  {
   "cell_type": "code",
   "execution_count": 8,
   "metadata": {},
   "outputs": [
    {
     "data": {
      "text/plain": [
       "False"
      ]
     },
     "execution_count": 8,
     "metadata": {},
     "output_type": "execute_result"
    }
   ],
   "source": [
    "s=\"123\"\n",
    "s.isdigit()"
   ]
  },
  {
   "cell_type": "code",
   "execution_count": 11,
   "metadata": {},
   "outputs": [],
   "source": [
    "import re"
   ]
  },
  {
   "cell_type": "code",
   "execution_count": 13,
   "metadata": {},
   "outputs": [
    {
     "name": "stdout",
     "output_type": "stream",
     "text": [
      "\n",
      "park 900101-*******\n",
      "kim 950202-*******\n",
      "\n"
     ]
    }
   ],
   "source": [
    "p=re.compile(\"(\\d{6})[-]\\d{7}\") #re.compile(\"패턴\")\n",
    "print(p.sub(\"\\g<1>-*******\",data))\n",
    "# p변수에 정의된 패턴에 매칭되는(일치하는) 문자열이 data 변수에 담겨있는 경우에는\n",
    "# \\g<1>-*******와 같은 형식으로 출력하시오\n"
   ]
  },
  {
   "cell_type": "code",
   "execution_count": 14,
   "metadata": {},
   "outputs": [],
   "source": [
    "#re.match(\"패턴\", data)\n",
    "#data에 담겨있는 문자열이 '패턴'에 매치되면 True, 아니면 False 출력"
   ]
  },
  {
   "cell_type": "code",
   "execution_count": 16,
   "metadata": {},
   "outputs": [
    {
     "name": "stdout",
     "output_type": "stream",
     "text": [
      "매치됐습니다\n"
     ]
    }
   ],
   "source": [
    "re.match(\"hi\",\"hihello\")\n",
    "#<re.Match object; span=(0, 2), match='hi'> -> True\n",
    "if re.match(\"hi\",\"hihello\"):\n",
    "    print(\"매치됐습니다\")"
   ]
  },
  {
   "cell_type": "code",
   "execution_count": 18,
   "metadata": {},
   "outputs": [
    {
     "data": {
      "text/plain": [
       "<re.Match object; span=(0, 2), match='hi'>"
      ]
     },
     "execution_count": 18,
     "metadata": {},
     "output_type": "execute_result"
    }
   ],
   "source": [
    "re.match(\"hi\",\"hihello\") #매치가 안됐으므로 출력이 안됨"
   ]
  },
  {
   "cell_type": "code",
   "execution_count": 19,
   "metadata": {},
   "outputs": [
    {
     "data": {
      "text/plain": [
       "0"
      ]
     },
     "execution_count": 19,
     "metadata": {},
     "output_type": "execute_result"
    }
   ],
   "source": [
    "\"hihello\".find(\"hi\") #문자열 함수"
   ]
  },
  {
   "cell_type": "code",
   "execution_count": 23,
   "metadata": {},
   "outputs": [
    {
     "data": {
      "text/plain": [
       "<re.Match object; span=(0, 2), match='hi'>"
      ]
     },
     "execution_count": 23,
     "metadata": {},
     "output_type": "execute_result"
    }
   ],
   "source": [
    "#특정 문자열로 시작 or 끝\n",
    "#패턴식 : ^문자열 or 문자열$\n",
    "#re.search함수를 사용 -> re.search(\"패턴식\", \"문자열\")\n",
    "re.search(\"hi\", \"hihello\") #매치됨, \"hi\"패턴이 \"hihello\"문자열에 있나요?\n",
    "re.match(\"hi\", \"hihello\") #매치됨, \"hi\"패턴이 \"hihello\"문자열에 있나요?"
   ]
  },
  {
   "cell_type": "code",
   "execution_count": 25,
   "metadata": {},
   "outputs": [],
   "source": [
    "re.search(\"he\", \"hihello\") #매치됨, \"he\"패턴이 \"hihello\"문자열에 있나요?\n",
    "re.match(\"he\", \"hihello\") #매치안됨, \"he\"패턴이 \"hihello\"문자열에 있나요?\n",
    "match는 문자열 왼쪽에서부터 매칭수행. 만약 매칭이 안되면 바로 종료\n",
    "search는 문자열 왼쪽에서부터 매칭수행. 문자열의 마지막까지 매칭 수행"
   ]
  },
  {
   "cell_type": "code",
   "execution_count": null,
   "metadata": {},
   "outputs": [],
   "source": []
  },
  {
   "cell_type": "code",
   "execution_count": 31,
   "metadata": {},
   "outputs": [],
   "source": [
    "re.search(\"^hi\" ,\"hihello\") #hi로 시작하므로 매치됨\n",
    "re.search(\"hi\" ,\"hellohihello\") \n",
    "re.search(\"^hi\" ,\"hellohihello\") \n",
    "\n",
    "re.search(\"lo$\",\"hihello\") #lo로 끝나므로 매치됨\n",
    "re.search(\"lo\",\"hihello\") #lo가 매치됨\n",
    "re.search(\"lo$\",\"hihello9\") #lo로 끝나지 않으므로 매치안됨\n"
   ]
  },
  {
   "cell_type": "code",
   "execution_count": 34,
   "metadata": {},
   "outputs": [],
   "source": [
    "#여러개의 패턴(문자열)중에 하나라도 포함하는지 확인\n",
    "re.match(\"hi|hello\", \"hi\") #\"hi\"문자열에 \"hi\"패턴 또는 \"hello\"패턴이 있느냐?\n",
    "re.match(\"hi|hello\", \"hello\") #\"hello\"문자열에 \"hi\"패턴 또는 \"hello\"패턴이 있느냐?\n",
    "re.match(\"hi|hello\", \"hell\") #\"hell\"문자열에 \"hi\"패턴 또는 \"hello\"패턴이 있느냐?\n",
    "# re.match(\"패턴1|패턴2|패턴3...\",\"문자열\")\n",
    "# 문자열에 패턴1 또#는 패턴2 또는 ... 패턴n이 있나요?"
   ]
  },
  {
   "cell_type": "code",
   "execution_count": 35,
   "metadata": {},
   "outputs": [
    {
     "data": {
      "text/plain": [
       "<re.Match object; span=(0, 1), match='1'>"
      ]
     },
     "execution_count": 35,
     "metadata": {},
     "output_type": "execute_result"
    }
   ],
   "source": [
    "#re.match(\"패턴\", \"문자열\")\n",
    "re.match(\"[0-9]\", \"12345\")\n",
    "# \"12345\" 숫자문자열에 숫자0부터9까지의 패턴이 있나요?\n",
    "# [] 대괄호는 1글자를 의미함"
   ]
  },
  {
   "cell_type": "code",
   "execution_count": 36,
   "metadata": {},
   "outputs": [
    {
     "data": {
      "text/plain": [
       "<re.Match object; span=(0, 5), match='12345'>"
      ]
     },
     "execution_count": 36,
     "metadata": {},
     "output_type": "execute_result"
    }
   ],
   "source": [
    "re.match(\"[0-9]*\", \"12345\") #5글자가 매치됨\n",
    "#[]* 대괄호 뒤에 *을 붙이면 0글자 이상을 의미함"
   ]
  },
  {
   "cell_type": "code",
   "execution_count": 40,
   "metadata": {},
   "outputs": [
    {
     "data": {
      "text/plain": [
       "<re.Match object; span=(0, 5), match='12345'>"
      ]
     },
     "execution_count": 40,
     "metadata": {},
     "output_type": "execute_result"
    }
   ],
   "source": [
    "re.match(\"[0-9]*\", \"가12345\") #0글자가 매치됨\n",
    "re.match(\"[0-9]\", \"가12345\") #매치 안됨\n",
    "re.match(\"[0-9]\", \"12345\") #0-9까지 숫자 중에서 하나가 매치가 되면 매치된 것으로 출력\n",
    "re.match(\"[0-9]+\", \"12345\") #1글자 이상 매치됨, 5글자 모두 매치됨\n"
   ]
  },
  {
   "cell_type": "code",
   "execution_count": 43,
   "metadata": {},
   "outputs": [
    {
     "data": {
      "text/plain": [
       "<re.Match object; span=(0, 1), match='3'>"
      ]
     },
     "execution_count": 43,
     "metadata": {},
     "output_type": "execute_result"
    }
   ],
   "source": [
    "# [0-9] : 0-9까지의 숫자 1글자가 매치\n",
    "# [0-9]* : 0-9까지의 숫자 0글자 이상이면 매치\n",
    "# [0-9]+ : 0-9까지의 숫자 1글자 이상이면 매치   \n",
    "re.match(\"[0-9]\", \"a\") \n",
    "re.match(\"[0-9]\", \"aabcadfs24234wqerefd\") \n",
    "re.match(\"[0-9]\", \"3452345aabcadfs24234wqerefd\") "
   ]
  },
  {
   "cell_type": "code",
   "execution_count": 46,
   "metadata": {},
   "outputs": [
    {
     "data": {
      "text/plain": [
       "<re.Match object; span=(0, 7), match='3452345'>"
      ]
     },
     "execution_count": 46,
     "metadata": {},
     "output_type": "execute_result"
    }
   ],
   "source": [
    "re.match(\"[0-9]*\", \"a\") \n",
    "re.match(\"[0-9]*\", \"aabcadfs24234wqerefd\") \n",
    "re.match(\"[0-9]*\", \"3452345aabcadfs24234wqerefd\") "
   ]
  },
  {
   "cell_type": "code",
   "execution_count": 49,
   "metadata": {},
   "outputs": [
    {
     "data": {
      "text/plain": [
       "<re.Match object; span=(0, 7), match='3452345'>"
      ]
     },
     "execution_count": 49,
     "metadata": {},
     "output_type": "execute_result"
    }
   ],
   "source": [
    "re.match(\"[0-9]+\", \"a\") \n",
    "re.match(\"[0-9]+\", \"aabcadfs24234wqerefd\") \n",
    "re.match(\"[0-9]+\", \"3452345aabcadfs24234wqerefd\") "
   ]
  },
  {
   "cell_type": "code",
   "execution_count": 51,
   "metadata": {},
   "outputs": [
    {
     "data": {
      "text/plain": [
       "<re.Match object; span=(0, 1), match='b'>"
      ]
     },
     "execution_count": 51,
     "metadata": {},
     "output_type": "execute_result"
    }
   ],
   "source": [
    "re.match(\"b\",\"b\") #re.match(\"패턴\",\"문자열\") 문자열에 패턴이 있습니까?\n",
    "re.match(\"[b]\",\"b\")\n"
   ]
  },
  {
   "cell_type": "code",
   "execution_count": 62,
   "metadata": {},
   "outputs": [],
   "source": [
    "re.match(\"ab\",\"b\")\n",
    "re.match(\"ab\",\"ab\")\n",
    "re.match(\"ab\",\"abcde\")\n",
    "re.match(\"ab\",\"123abcde\")\n",
    "re.search(\"ab\",\"123abcde\")\n",
    "\n",
    "re.match(\"[ba]\",\"abcde\") #\"abcde\"문자열에 대해 a 또는 b 문자 1글자와 매치가 됐느냐?\n",
    "#re.match(\"ab\",\"abcde\")\n",
    "re.match(\"[cba]\",\"abcde\") #\"abcde\"문자열에 대해 a 또는 b 또는 c문자 1글자와 매치가 됐느냐?\n",
    "re.match(\"cba\",\"abcde\") "
   ]
  },
  {
   "cell_type": "code",
   "execution_count": 67,
   "metadata": {},
   "outputs": [
    {
     "data": {
      "text/plain": [
       "<re.Match object; span=(0, 2), match='hi'>"
      ]
     },
     "execution_count": 67,
     "metadata": {},
     "output_type": "execute_result"
    }
   ],
   "source": [
    "re.match(\"[iabhcdefg]+\",\"hi\")\n",
    "re.match(\"[iabhcdefg]*\",\"hi\")"
   ]
  },
  {
   "cell_type": "code",
   "execution_count": 70,
   "metadata": {},
   "outputs": [
    {
     "data": {
      "text/plain": [
       "<re.Match object; span=(0, 1), match='b'>"
      ]
     },
     "execution_count": 70,
     "metadata": {},
     "output_type": "execute_result"
    }
   ],
   "source": [
    "re.match(\"ab\",\"b\")\n",
    "re.match(\"a*b\",\"b\") #b라는 문자열에 대해 a문자가 0개 이상 있으며 이어서\n",
    "#b문자가 1개 나온다면 매치됨\n",
    "\n",
    "#* 또는 +는 바로 왼쪽에 있는 대상에 대해 0글자 이상 또는 1글자 이상을 의마"
   ]
  },
  {
   "cell_type": "code",
   "execution_count": 74,
   "metadata": {},
   "outputs": [
    {
     "data": {
      "text/plain": [
       "<re.Match object; span=(0, 6), match='aaabbb'>"
      ]
     },
     "execution_count": 74,
     "metadata": {},
     "output_type": "execute_result"
    }
   ],
   "source": [
    "re.match(\"a*b\",\"aaaaaaaaaaaaaaaaab\")\n",
    "re.match(\"a*b\",\"aaabbb\")\n",
    "re.match(\"a*b*\",\"aaabbb\")"
   ]
  },
  {
   "cell_type": "code",
   "execution_count": 84,
   "metadata": {},
   "outputs": [
    {
     "data": {
      "text/plain": [
       "<re.Match object; span=(0, 1), match='a'>"
      ]
     },
     "execution_count": 84,
     "metadata": {},
     "output_type": "execute_result"
    }
   ],
   "source": [
    "#re.match(\"패턴\",\"문자열\") 주어진 문자열에 패턴이 있나요?\n",
    "#*은 0글자 이상 패턴이 있는지 확인\n",
    "re.match(\"ab*\",\"aaabbb\")\n",
    "# a가 1글자가 먼저 나와야하며, 이어서 b가 0글자 이상 나와야함\n",
    "re.match(\"ab*\",\"abbbbbbbbbbbbbbbbbbbbbbbbbbbbbbb\")\n",
    "re.match(\"ab*\",\"a\")\n",
    "\n",
    "\n",
    "# re.match(\"a\",\"aaabbb\")\n",
    "# re.match(\"ab\",\"aaabbb\")\n",
    "# re.match(\"ab*\",\"aaabbb\")\n",
    "# re.match(\"ab+\",\"aaabbb\")\n",
    "# re.match(\"a*b+\",\"aaabbb\")\n",
    "# re.match(\"a*b+\",\"aaabbcb\")"
   ]
  },
  {
   "cell_type": "code",
   "execution_count": 80,
   "metadata": {},
   "outputs": [
    {
     "data": {
      "text/plain": [
       "<re.Match object; span=(0, 1), match='k'>"
      ]
     },
     "execution_count": 80,
     "metadata": {},
     "output_type": "execute_result"
    }
   ],
   "source": [
    "re.match(\"[a-z]\", \"kljsdfjsd324dsjflasd\")\n",
    "re.match(\"[a-z]*\", \"kljsdfjsd324dsjflasd\")"
   ]
  },
  {
   "cell_type": "code",
   "execution_count": 94,
   "metadata": {},
   "outputs": [],
   "source": [
    "re.match(\"[abc]\",\"abc\")\n",
    "re.match(\"abc\",\"abc\")\n",
    "re.match(\"abcd\",\"abc\")\n",
    "re.match(\"abcd*\",\"abc\")\n",
    "re.match(\"abcd+\",\"abc\")\n",
    "re.match(\"[efabcd]\",\"abc\")\n",
    "re.match(\"[efabcd]+\",\"abc\")\n",
    "re.match(\"[efabcd]+\",\"abcz\")\n",
    "re.match(\"[efabcd]+\",\"kabcz\")"
   ]
  },
  {
   "cell_type": "code",
   "execution_count": 101,
   "metadata": {},
   "outputs": [
    {
     "data": {
      "text/plain": [
       "<re.Match object; span=(0, 14), match='kdfi SDAF234df'>"
      ]
     },
     "execution_count": 101,
     "metadata": {},
     "output_type": "execute_result"
    }
   ],
   "source": [
    "re.match(\"[a-z]\",\"kdfiSDAF234dfa\")\n",
    "re.match(\"[a-z]+\",\"kdfiSDAF234dfa\")\n",
    "re.match(\"[a-zA-Z]+\",\"kdfiSDAF234dfa\")\n",
    "re.match(\"[a-zA-Z0-9]+\",\"kdfiSDAF234dfa\")\n",
    "re.match(\"[a-zA-Z0-9]+\",\"kdfiSDAF234df가나다a\")\n",
    "re.match(\"[a-zA-Z0-9]+\",\"kdfi SDAF234df가나다a\")\n",
    "re.match(\"[a-zA-Z0-9 ]+\",\"kdfi SDAF234df가나다a\")"
   ]
  },
  {
   "cell_type": "code",
   "execution_count": 102,
   "metadata": {},
   "outputs": [
    {
     "data": {
      "text/plain": [
       "<re.Match object; span=(0, 15), match='kdfi SDAF23@4df'>"
      ]
     },
     "execution_count": 102,
     "metadata": {},
     "output_type": "execute_result"
    }
   ],
   "source": [
    "re.match(\"[a-zA-Z0-9 @]+\",\"kdfi SDAF23@4df가나다a\")"
   ]
  },
  {
   "cell_type": "code",
   "execution_count": 103,
   "metadata": {},
   "outputs": [],
   "source": [
    "# ? 또는 . 은 문자가 1개만 있는지 판단\n",
    "# 문자? 또는 [0-9]?\n",
    "\n",
    "#?는 ?앞의 문자가 0개 또는 1개인지를 판단\n",
    "#.은 .이 있는 위치에 아무 문자(숫자)가 1개 있는지를 판단"
   ]
  },
  {
   "cell_type": "code",
   "execution_count": 112,
   "metadata": {},
   "outputs": [
    {
     "data": {
      "text/plain": [
       "<re.Match object; span=(0, 4), match='abcd'>"
      ]
     },
     "execution_count": 112,
     "metadata": {},
     "output_type": "execute_result"
    }
   ],
   "source": [
    "re.match(\"abd\",\"abd\")\n",
    "re.match(\"abcd\",\"abd\")\n",
    "re.match(\"abc*d\",\"abd\")\n",
    "re.match(\"abc?d\",\"abd\")\n",
    "re.match(\"abc?d\",\"abcd\")\n",
    "\n",
    "re.match(\"abc?d\",\"abccd\")\n",
    "#re.match(\"abc*d\",\"abccd\")\n",
    "\n",
    "re.match(\"abc?d\",\"abcdcd\")\n"
   ]
  },
  {
   "cell_type": "code",
   "execution_count": 115,
   "metadata": {},
   "outputs": [],
   "source": [
    "re.match(\"ab.d\", \"abcd\")\n",
    "re.match(\"ab.d\", \"ab7d\")\n",
    "re.match(\"ab.d\", \"ab7td\")"
   ]
  },
  {
   "cell_type": "code",
   "execution_count": 121,
   "metadata": {},
   "outputs": [
    {
     "data": {
      "text/plain": [
       "<re.Match object; span=(0, 6), match='ab999c'>"
      ]
     },
     "execution_count": 121,
     "metadata": {},
     "output_type": "execute_result"
    }
   ],
   "source": [
    "re.match(\"ab[0-9]c\",\"ab3c\")\n",
    "re.match(\"ab[0-9]c\",\"ab3\")\n",
    "re.match(\"ab[0-9]c\",\"abzc\")\n",
    "re.match(\"ab[0-9]c\",\"ab999c\")\n",
    "re.match(\"ab[0-9]*c\",\"ab999c\")"
   ]
  },
  {
   "cell_type": "code",
   "execution_count": 125,
   "metadata": {},
   "outputs": [
    {
     "data": {
      "text/plain": [
       "<re.Match object; span=(0, 4), match='ab7c'>"
      ]
     },
     "execution_count": 125,
     "metadata": {},
     "output_type": "execute_result"
    }
   ],
   "source": [
    "re.match(\"ab[0-9]?c\",\"abc\")\n",
    "re.match(\"ab[0-9]?c\",\"ab7c\")\n",
    "re.match(\"ab[0-9]?c\",\"ab73c\")\n",
    "re.match(\"ab[0-9]?c\",\"ab7cd\")\n",
    "#문자열에 패턴이 있나요?"
   ]
  },
  {
   "cell_type": "code",
   "execution_count": 126,
   "metadata": {},
   "outputs": [],
   "source": [
    "#문자{개수} : 문자(숫자)가 반드시(정확하게) 개수만큼 있어야 함\n",
    "#(문자열){개수} :문자열이 반드시(정확하게) 개수만큼 있어야 함"
   ]
  },
  {
   "cell_type": "code",
   "execution_count": 141,
   "metadata": {},
   "outputs": [
    {
     "data": {
      "text/plain": [
       "<re.Match object; span=(0, 6), match='hihihi'>"
      ]
     },
     "execution_count": 141,
     "metadata": {},
     "output_type": "execute_result"
    }
   ],
   "source": [
    "re.match(\"h+e*k*m*l*o\",\"hhhello\")\n",
    "re.match(\"h{3}\", \"hhhh293ujlrwouerjlf\")\n",
    "\n",
    "re.match(\"hi{3}\", \"hiii\")\n",
    "re.match(\"(hi){3}\", \"hihihi\")"
   ]
  },
  {
   "cell_type": "code",
   "execution_count": 145,
   "metadata": {},
   "outputs": [],
   "source": [
    "#[0-9]{3} 숫자 3개\n",
    "re.match(\"[0-9]{3}\", \"1234\")\n",
    "\n",
    "re.match(\"[0-9]{3}-[0-9]{4}-[0-9]{4}\", \"010-1234-4568\")\n",
    "\n",
    "re.match(\"[0-9]{3}-[0-9]{4}-[0-9]{4}\", \"010-123-4568\")"
   ]
  },
  {
   "cell_type": "code",
   "execution_count": 149,
   "metadata": {},
   "outputs": [
    {
     "name": "stdout",
     "output_type": "stream",
     "text": [
      "잘못된 번호\n"
     ]
    }
   ],
   "source": [
    "if re.match(\"[0-9]{3}-[0-9]{4}-[0-9]{4}\", \"02a-123-4568\"):\n",
    "    print(\"정상\")\n",
    "else:\n",
    "    print(\"잘못된 번호\")"
   ]
  },
  {
   "cell_type": "code",
   "execution_count": 160,
   "metadata": {},
   "outputs": [
    {
     "data": {
      "text/plain": [
       "<re.Match object; span=(0, 3), match='aaa'>"
      ]
     },
     "execution_count": 160,
     "metadata": {},
     "output_type": "execute_result"
    }
   ],
   "source": [
    "#숫자(문자) 개수 범위를 줄 수 있음. {시작개수, 끝개수}\n",
    "#문자{2,3} => 문자가 2개 이상 3개 이하인 경우에는 매치됨\n",
    "re.match(\"a{2}\",\"a\")\n",
    "re.match(\"a{2}\",\"aa\")\n",
    "re.match(\"a{2}\",\"aaa\")\n",
    "re.match(\"(a){2}\",\"aa\")\n",
    "re.match(\"[a]{2}\",\"aa\")\n",
    "\n",
    "re.match(\"a{2,3}\",\"a\")\n",
    "re.match(\"a{2,3}\",\"aa\")\n",
    "re.match(\"a{2,3}\",\"aaa\")\n",
    "re.match(\"a{2,3}\",\"aaaaaaa\")"
   ]
  },
  {
   "cell_type": "code",
   "execution_count": 166,
   "metadata": {},
   "outputs": [],
   "source": [
    "re.match(\"[0-9]{2,3}-\",\"0324-\") #032-"
   ]
  },
  {
   "cell_type": "code",
   "execution_count": 168,
   "metadata": {},
   "outputs": [
    {
     "data": {
      "text/plain": [
       "<re.Match object; span=(0, 8), match='hello123'>"
      ]
     },
     "execution_count": 168,
     "metadata": {},
     "output_type": "execute_result"
    }
   ],
   "source": [
    "re.match(\"[0-9]+\", \"hello123\")\n",
    "re.match(\"[0-9a-z]+\", \"hello123\")"
   ]
  },
  {
   "cell_type": "code",
   "execution_count": 170,
   "metadata": {},
   "outputs": [],
   "source": [
    "news=\"\"\"\n",
    "설 연휴가 지나고 오늘 아침 강추위가 찾아왔습니다.\n",
    "파주는 영하 13도 선까지 곤두박질쳤습니다.\n",
    "\"\"\""
   ]
  },
  {
   "cell_type": "code",
   "execution_count": 172,
   "metadata": {},
   "outputs": [
    {
     "data": {
      "text/plain": [
       "<re.Match object; span=(37, 39), match='13'>"
      ]
     },
     "execution_count": 172,
     "metadata": {},
     "output_type": "execute_result"
    }
   ],
   "source": [
    "#숫자만 추출  =>\n",
    "re.search(\"[0-9]+\", news)"
   ]
  },
  {
   "cell_type": "code",
   "execution_count": 175,
   "metadata": {},
   "outputs": [
    {
     "data": {
      "text/plain": [
       "<re.Match object; span=(1, 28), match='설 연휴가 지나고 오늘 아침 강추위가 찾아왔습니다'>"
      ]
     },
     "execution_count": 175,
     "metadata": {},
     "output_type": "execute_result"
    }
   ],
   "source": [
    "#한글만 추출 =>\n",
    "re.search(\"[가-힣 ]+\", news)"
   ]
  },
  {
   "cell_type": "code",
   "execution_count": 176,
   "metadata": {},
   "outputs": [],
   "source": [
    "# [^범위]* : 범위에 해당되는 대상을 제외한 모든 문자가 0개 이상 있는지 확인\n",
    "# [^범위]+ : 범위에 해당되는 대상을 제외한 모든 문자가 1개 이상 있는지 확인"
   ]
  },
  {
   "cell_type": "code",
   "execution_count": 182,
   "metadata": {},
   "outputs": [
    {
     "data": {
      "text/plain": [
       "<re.Match object; span=(0, 2), match='he'>"
      ]
     },
     "execution_count": 182,
     "metadata": {},
     "output_type": "execute_result"
    }
   ],
   "source": [
    "re.match(\"[A-Z]+\",\"Hello\")\n",
    "re.match(\"[^A-Z]+\",\"Hello\")\n",
    "re.match(\"[^A-Z]+\",\"hello\")\n",
    "re.match(\"[^A-Z]+\",\"heAllo\")"
   ]
  },
  {
   "cell_type": "code",
   "execution_count": 186,
   "metadata": {},
   "outputs": [
    {
     "data": {
      "text/plain": [
       "<re.Match object; span=(1, 6), match='ello9'>"
      ]
     },
     "execution_count": 186,
     "metadata": {},
     "output_type": "execute_result"
    }
   ],
   "source": [
    "re.search(\"[^A-Z]+\",\"Hello\")\n",
    "re.search(\"[^A-Z]+\",\"Hello9\")\n",
    "re.search(\"[^A-Z]+\",\"Hello9A\")\n",
    "re.search(\"[^A-Z]+\",\"Hello9Aasfd\")"
   ]
  },
  {
   "cell_type": "code",
   "execution_count": 188,
   "metadata": {},
   "outputs": [
    {
     "data": {
      "text/plain": [
       "<re.Match object; span=(0, 2), match='HE'>"
      ]
     },
     "execution_count": 188,
     "metadata": {},
     "output_type": "execute_result"
    }
   ],
   "source": [
    "re.search(\"^[A-Z]+\",\"Hello\") #A-Z로 시작하면 매치됨\n",
    "re.search(\"^[A-Z]+\",\"HEllo\") #A-Z로 시작하면 매치됨\n"
   ]
  },
  {
   "cell_type": "code",
   "execution_count": 195,
   "metadata": {},
   "outputs": [],
   "source": [
    "#[범위]*$\n",
    "re.search(\"[0-9]\",\"Hello1234\")\n",
    "re.search(\"[0-9]+\",\"Hello1234\")\n",
    "re.search(\"[0-9]*\",\"Hello1234\")\n",
    "re.search(\"[0-9]*$\",\"Hello1234\")\n",
    "re.search(\"[0-9]$\",\"Hello1234\")\n",
    "re.search(\"[0-9]+$\",\"Hello1234\")\n",
    "re.search(\"[0-9]+$\",\"Hello1234a\")\n"
   ]
  },
  {
   "cell_type": "code",
   "execution_count": 266,
   "metadata": {},
   "outputs": [],
   "source": [
    "news=\"\"\"\n",
    "설 연휴가 지나고 오늘 아침 강추위가 찾아왔습니다.\n",
    "파주는 영상 13도 선까지 곤두박질쳤습니다.\n",
    "\"\"\""
   ]
  },
  {
   "cell_type": "code",
   "execution_count": 267,
   "metadata": {},
   "outputs": [],
   "source": [
    "#기온 정보 추출 ex) \"영하  ??도\", \"영상  ??도\"\n",
    "#re.search(\"영하 [0-9]+도\",news)"
   ]
  },
  {
   "cell_type": "code",
   "execution_count": 268,
   "metadata": {},
   "outputs": [
    {
     "data": {
      "text/plain": [
       "<re.Match object; span=(34, 40), match='영상 13도'>"
      ]
     },
     "execution_count": 268,
     "metadata": {},
     "output_type": "execute_result"
    }
   ],
   "source": [
    "#re.search(\"영[하]*[상]*[ ][0-9]+[도]\", news)\n",
    "#re.search(\"영. [0-9]+도\",news)\n",
    "re.search(\"영하|영상 [0-9]+도\",news)\n",
    "#re.search('영(상|하) [0-9]+도',news )\n",
    "#re.search(\"영[하상] [0-9]+도\",news)\n"
   ]
  },
  {
   "cell_type": "code",
   "execution_count": 279,
   "metadata": {},
   "outputs": [
    {
     "data": {
      "text/plain": [
       "<re.Match object; span=(0, 12), match='$500(dallar)'>"
      ]
     },
     "execution_count": 279,
     "metadata": {},
     "output_type": "execute_result"
    }
   ],
   "source": [
    "# 패턴식에 특수문자(*,+,.,&,$,..등등)는 앞에 역슬래시(\\)를 붙이면 됨\n",
    "# 단, []대괄호 안에서는 \\를 붙이지 않아도 됨\n",
    "\n",
    "#re.search(\"*\",\"구구단 2단 2*1=2\") 에러\n",
    "re.search(\"\\*\",\"구구단 2단 2*1=2\")\n",
    "re.search(\"\\*+\",\"2의 3승은 2**3=8\")\n",
    "re.search(\"\\**\",\"2의 3승은 2**3=8\")\n",
    "\n",
    "re.search(\"[0-9]+\\*+[0-9]+\",\"2의 3승은 2**3=8\")\n",
    "\n",
    "re.search(\"[*]+\",\"2의 3승은 2**3=8\")\n",
    "re.search(\"[$()a-zA-Z0-9]+\", \"$500(dallar)\")"
   ]
  },
  {
   "cell_type": "code",
   "execution_count": 280,
   "metadata": {},
   "outputs": [],
   "source": [
    "# \\d:[0-9]\n",
    "# \\D:[^0-9]\n",
    "# \\w:[0-9a-zA-Z_]\n",
    "# \\W:[^0-9a-zA-Z_]\n",
    "# \\s:[ \\t\\n\\r\\f\\v]\n",
    "# \\S:[^ \\t\\n\\r\\f\\v]\n"
   ]
  },
  {
   "cell_type": "code",
   "execution_count": 286,
   "metadata": {},
   "outputs": [
    {
     "data": {
      "text/plain": [
       "<re.Match object; span=(0, 9), match='Hello 123'>"
      ]
     },
     "execution_count": 286,
     "metadata": {},
     "output_type": "execute_result"
    }
   ],
   "source": [
    "re.match(\"[a-zA-Z 0-9]+\",\"Hello 123\")\n",
    "re.match(\"[a-zA-Z\\s0-9]+\",\"Hello 123\")"
   ]
  },
  {
   "cell_type": "code",
   "execution_count": null,
   "metadata": {},
   "outputs": [],
   "source": [
    "# re.match(\"패턴식\", \"문자열\")\n",
    "# re.search(\"패턴식\",\"문자열\")\n",
    "\n",
    "# 객체변수=re.compile(\"패턴식\")\n",
    "# 객체변수.match(\"문자열\")\n",
    "# 객체변수.search(\"문자열\")"
   ]
  },
  {
   "cell_type": "code",
   "execution_count": 287,
   "metadata": {},
   "outputs": [],
   "source": [
    "# re.match(\"패턴식\", \"문자열\")\n",
    "#위 식은 아래식과 동일함\n",
    "# 객체변수=re.compile(\"패턴식\")\n",
    "# 객체변수.match(\"문자열\")"
   ]
  },
  {
   "cell_type": "code",
   "execution_count": null,
   "metadata": {},
   "outputs": [],
   "source": []
  },
  {
   "cell_type": "code",
   "execution_count": 292,
   "metadata": {},
   "outputs": [],
   "source": [
    "re.match(\"a[.]b\",\"ab\")\n",
    "re.match(\"a[.]b\",\"a.b\")\n",
    "re.match(\"a.b\",\"akb\")\n",
    "re.match(\"a.b\",\"akkb\")"
   ]
  },
  {
   "cell_type": "code",
   "execution_count": null,
   "metadata": {},
   "outputs": [],
   "source": [
    "re.match(\"ca*t\",\"caaaaaaaaaaaaaaaaaat\")"
   ]
  },
  {
   "cell_type": "code",
   "execution_count": 295,
   "metadata": {},
   "outputs": [],
   "source": [
    "re.match(\"ca{2,5}t\",\"caaaaaat\")"
   ]
  },
  {
   "cell_type": "code",
   "execution_count": null,
   "metadata": {},
   "outputs": [],
   "source": []
  },
  {
   "cell_type": "code",
   "execution_count": 297,
   "metadata": {},
   "outputs": [],
   "source": [
    "#findall함수"
   ]
  },
  {
   "cell_type": "code",
   "execution_count": 298,
   "metadata": {},
   "outputs": [],
   "source": [
    "p=re.compile(\"[a-z]+\")\n",
    "res=p.findall(\"life is too short\")"
   ]
  },
  {
   "cell_type": "code",
   "execution_count": 299,
   "metadata": {},
   "outputs": [
    {
     "name": "stdout",
     "output_type": "stream",
     "text": [
      "['life', 'is', 'too', 'short']\n"
     ]
    }
   ],
   "source": [
    "print(res)\n",
    "#매치 결과가 리스트 형식으로 리턴됨"
   ]
  },
  {
   "cell_type": "code",
   "execution_count": 300,
   "metadata": {},
   "outputs": [],
   "source": [
    "wf=\"\"\"\n",
    "설 연휴가 지나고 오늘 아침 강추위가 찾아왔습니다.\n",
    "오늘 서울의 아침기온 영하 7도 가까이 떨어졌고요.\n",
    "파주는 영하 13도 선까지 곤두박질쳤습니다.\n",
    "지금도 햇볕은 따뜻하게 내리쬐고 있지만 공기가 많이 차갑고요.\n",
    "찬바람도 꽤나 불고 있습니다.\n",
    "수일째 중부와 경북을 중심으로 한파특보가 이어지고 있고요.\n",
    "오늘 한낮에도 햇볕은 따뜻하지만 낮 동안 기온이 크게 오르지 못하겠습니다.\n",
    "한낮에 서울 0도, 파주와 제천도 0도에 오르는 데 그치겠고요.\n",
    "\"\"\""
   ]
  },
  {
   "cell_type": "code",
   "execution_count": 302,
   "metadata": {},
   "outputs": [
    {
     "data": {
      "text/plain": [
       "['7도', '13도', '0도', '0도']"
      ]
     },
     "execution_count": 302,
     "metadata": {},
     "output_type": "execute_result"
    }
   ],
   "source": [
    "# r=re.compile(\"[0-9]+도\")\n",
    "# r.findall(wf)\n",
    "\n",
    "# p=re.compile(\"\\d+도\")\n",
    "# p.findall(wf)\n"
   ]
  },
  {
   "cell_type": "code",
   "execution_count": null,
   "metadata": {},
   "outputs": [],
   "source": []
  },
  {
   "cell_type": "code",
   "execution_count": 304,
   "metadata": {},
   "outputs": [],
   "source": [
    "p=re.compile(\"[a-z]+\")"
   ]
  },
  {
   "cell_type": "code",
   "execution_count": 308,
   "metadata": {},
   "outputs": [],
   "source": [
    "m=p.match(\"python\")"
   ]
  },
  {
   "cell_type": "code",
   "execution_count": 307,
   "metadata": {},
   "outputs": [],
   "source": [
    "#re.match(\"[a-z]+\",\"python\")"
   ]
  },
  {
   "cell_type": "code",
   "execution_count": 312,
   "metadata": {},
   "outputs": [
    {
     "data": {
      "text/plain": [
       "<re.Match object; span=(0, 6), match='python'>"
      ]
     },
     "execution_count": 312,
     "metadata": {},
     "output_type": "execute_result"
    }
   ],
   "source": [
    "m"
   ]
  },
  {
   "cell_type": "code",
   "execution_count": 314,
   "metadata": {},
   "outputs": [
    {
     "data": {
      "text/plain": [
       "(0, 6)"
      ]
     },
     "execution_count": 314,
     "metadata": {},
     "output_type": "execute_result"
    }
   ],
   "source": [
    "m\n",
    "m.group() #매치된 문자열 추출\n",
    "\n",
    "#span=(0, 6)\n",
    "m.start() #매치된 된 시작 위치\n",
    "m.end()#매치된 마지막 위치\n",
    "\n",
    "m.span()"
   ]
  },
  {
   "cell_type": "code",
   "execution_count": 315,
   "metadata": {},
   "outputs": [
    {
     "data": {
      "text/plain": [
       "()"
      ]
     },
     "execution_count": 315,
     "metadata": {},
     "output_type": "execute_result"
    }
   ],
   "source": [
    "m.groups()"
   ]
  },
  {
   "cell_type": "code",
   "execution_count": 316,
   "metadata": {},
   "outputs": [
    {
     "data": {
      "text/plain": [
       "<re.Match object; span=(0, 6), match='Python'>"
      ]
     },
     "execution_count": 316,
     "metadata": {},
     "output_type": "execute_result"
    }
   ],
   "source": [
    "re.match(\"Python|Java\", \"PythonC++\")"
   ]
  },
  {
   "cell_type": "code",
   "execution_count": 317,
   "metadata": {},
   "outputs": [
    {
     "data": {
      "text/plain": [
       "<re.Match object; span=(0, 6), match='ABCABC'>"
      ]
     },
     "execution_count": 317,
     "metadata": {},
     "output_type": "execute_result"
    }
   ],
   "source": [
    "#():그룹 형성시 사용되는 특수문자\n",
    "re.match(\"(ABC)+\",\"ABCABCAB OK?\")"
   ]
  },
  {
   "cell_type": "code",
   "execution_count": 319,
   "metadata": {},
   "outputs": [],
   "source": [
    "m=re.search(\"(ABC)+\",\"ABCABCAB OK?\")"
   ]
  },
  {
   "cell_type": "code",
   "execution_count": 322,
   "metadata": {},
   "outputs": [
    {
     "data": {
      "text/plain": [
       "'ABCABC'"
      ]
     },
     "execution_count": 322,
     "metadata": {},
     "output_type": "execute_result"
    }
   ],
   "source": [
    "m.groups() # 그룹\n",
    "m.group() #매치 결과"
   ]
  },
  {
   "cell_type": "code",
   "execution_count": 324,
   "metadata": {},
   "outputs": [],
   "source": [
    "telnum=\"\"\"\n",
    "kim 010-1234-1234\n",
    "park 010-2345-6767\n",
    "\"\"\""
   ]
  },
  {
   "cell_type": "code",
   "execution_count": 325,
   "metadata": {},
   "outputs": [],
   "source": [
    "#성 전화번호 형식을 갖춘 데이터를 모두 추출"
   ]
  },
  {
   "cell_type": "code",
   "execution_count": 338,
   "metadata": {},
   "outputs": [
    {
     "data": {
      "text/plain": [
       "'kim 010-1234-1234\\npark 010-2345-6767\\n'"
      ]
     },
     "execution_count": 338,
     "metadata": {},
     "output_type": "execute_result"
    }
   ],
   "source": [
    "m=re.search(\"[a-zA-Z]+ [0-9-\\n]+[a-zA-Z]+ [0-9-\\n]+\",telnum)\n",
    "m.group()\n"
   ]
  },
  {
   "cell_type": "code",
   "execution_count": 339,
   "metadata": {},
   "outputs": [
    {
     "name": "stdout",
     "output_type": "stream",
     "text": [
      "['kim 010-1234-1234', 'park 010-2345-6767']\n"
     ]
    }
   ],
   "source": [
    "p = re.compile('([a-z]+ \\d+-\\d+-\\d+)')\n",
    "\n",
    "res = p.findall(telnum)\n",
    "\n",
    "print(res)\n"
   ]
  },
  {
   "cell_type": "code",
   "execution_count": 340,
   "metadata": {},
   "outputs": [
    {
     "name": "stdout",
     "output_type": "stream",
     "text": [
      "['kim 010-1234', 'park 010-2345']\n"
     ]
    }
   ],
   "source": [
    "p=re.compile(\"[a-z]+ [0-9]+-[0-9]+\")\n",
    "m=p.findall(telnum)\n",
    "print(m)\n"
   ]
  },
  {
   "cell_type": "code",
   "execution_count": null,
   "metadata": {},
   "outputs": [],
   "source": []
  }
 ],
 "metadata": {
  "kernelspec": {
   "display_name": "Python 3",
   "language": "python",
   "name": "python3"
  },
  "language_info": {
   "codemirror_mode": {
    "name": "ipython",
    "version": 3
   },
   "file_extension": ".py",
   "mimetype": "text/x-python",
   "name": "python",
   "nbconvert_exporter": "python",
   "pygments_lexer": "ipython3",
   "version": "3.7.4"
  }
 },
 "nbformat": 4,
 "nbformat_minor": 2
}
